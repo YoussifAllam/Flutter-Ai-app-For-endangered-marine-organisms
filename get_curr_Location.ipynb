{
 "cells": [
  {
   "cell_type": "code",
   "execution_count": 69,
   "metadata": {},
   "outputs": [],
   "source": [
    "import pandas as pd "
   ]
  },
  {
   "cell_type": "code",
   "execution_count": 70,
   "metadata": {},
   "outputs": [],
   "source": [
    "df  = pd.read_csv(r\"D:\\system\\Combined_Less.csv\" , usecols= [ 'species' , 'Common_Name' ,'LAT_DD' , 'LON_DD' ] )"
   ]
  },
  {
   "cell_type": "code",
   "execution_count": 57,
   "metadata": {},
   "outputs": [
    {
     "name": "stdout",
     "output_type": "stream",
     "text": [
      "                   species           Common_Name   LAT_DD   LON_DD\n",
      "0    Ambloplites rupestris             Rock Bass  38.9883 -83.3328\n",
      "1      Campostoma anomalum   Central Stoneroller  38.9883 -83.3328\n",
      "2   Catostomus commersonii          White Sucker  38.9883 -83.3328\n",
      "3  Chrosomus erythrogaster  South. Redbelly Dace  38.9883 -83.3328\n",
      "4  Clinostomus funduloides         Rosyside Dace  38.9883 -83.3328\n"
     ]
    }
   ],
   "source": [
    "print(df.head(5)) "
   ]
  },
  {
   "cell_type": "code",
   "execution_count": 72,
   "metadata": {},
   "outputs": [],
   "source": [
    "from selenium import webdriver\n",
    "from selenium.webdriver.chrome.service import Service\n",
    "from webdriver_manager.chrome import ChromeDriverManager\n",
    "from selenium.webdriver.common.by import By\n",
    "import json\n",
    "import time\n",
    "def get_location():\n",
    "    s = Service(ChromeDriverManager().install())\n",
    "    driver = webdriver.Chrome(service=s)\n",
    "    driver.get('https://www.google.com')\n",
    "\n",
    "    string = '''\n",
    "    function getLocation(callback) {\n",
    "            if (navigator.geolocation) {\n",
    "                navigator.geolocation.getCurrentPosition(function(position) {\n",
    "                    var myjson = {\"latitude\":position.coords.latitude, \"longitude\":position.coords.longitude};\n",
    "                    console.log(position);\n",
    "                    console.log(position.coords.latitude);\n",
    "                    console.log(position.coords.longitude); \n",
    "                    var stringJson = JSON.stringify(myjson);\n",
    "                    callback(stringJson);\n",
    "                });\n",
    "            } else {\n",
    "                console.log(\"Geolocation is not supported by this browser.\"); \n",
    "            }\n",
    "        }\n",
    "        \n",
    "        getLocation(function(callback) {\n",
    "            console.log(callback);\n",
    "            const para = document.createElement(\"p\");\n",
    "            para.innerHTML = callback;\n",
    "            para.id = \"location\";\n",
    "            document.body.appendChild(para);\n",
    "        });'''.replace('\\n', '').replace('\\t', '')\n",
    "\n",
    "\n",
    "    # repeat this code\n",
    "    driver.execute_script(string)\n",
    "    time.sleep(2)\n",
    "    res = driver.find_element(By.ID, \"location\")\n",
    "    loc = res.text\n",
    "    locDict = json.loads(loc)\n",
    "    return  locDict[\"latitude\"] , locDict[\"longitude\"]\n",
    "# (\"latitude: %f, longitude: %f\" % (locDict[\"latitude\"], locDict[\"longitude\"]))"
   ]
  },
  {
   "cell_type": "code",
   "execution_count": 73,
   "metadata": {},
   "outputs": [
    {
     "name": "stdout",
     "output_type": "stream",
     "text": [
      "                species  Common_Name   LAT_DD  LON_DD\n",
      "42336       BANNERFISH   BANNERFISH   27.5800   34.31\n",
      "42337             clown          NaN  26.2125   34.00\n",
      "42338            Dugong          NaN  27.0000   34.00\n",
      "42339  green sea turtle          NaN  21.0000   30.00\n"
     ]
    }
   ],
   "source": [
    "import numpy as np\n",
    "latitude_range = (20, 49)\n",
    "longitude_range = (20 ,49)\n",
    "t = np.logical_and(df[\"LAT_DD\"].between(latitude_range[0], latitude_range[1]), df[\"LON_DD\"].between(longitude_range[0], longitude_range[1]))\n",
    "\n",
    "# Get the indices of the elements in the NumPy array that are equal to True.\n",
    "indices = np.where(t == True)[0]\n",
    "\n",
    "# Print the rows of the DataFrame at the corresponding indices.\n",
    "print(df.iloc[indices])"
   ]
  },
  {
   "cell_type": "code",
   "execution_count": null,
   "metadata": {},
   "outputs": [],
   "source": []
  }
 ],
 "metadata": {
  "kernelspec": {
   "display_name": "Python 3",
   "language": "python",
   "name": "python3"
  },
  "language_info": {
   "codemirror_mode": {
    "name": "ipython",
    "version": 3
   },
   "file_extension": ".py",
   "mimetype": "text/x-python",
   "name": "python",
   "nbconvert_exporter": "python",
   "pygments_lexer": "ipython3",
   "version": "3.11.4"
  },
  "orig_nbformat": 4
 },
 "nbformat": 4,
 "nbformat_minor": 2
}
